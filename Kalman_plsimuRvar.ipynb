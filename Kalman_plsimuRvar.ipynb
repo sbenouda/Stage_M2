{
 "cells": [
  {
   "attachments": {},
   "cell_type": "markdown",
   "metadata": {},
   "source": [
    "Ce code génére des observations y et l'état du système x_true au cours du temps\n",
    "à partir des valeurs de R et Q défini.On réalise un filtre de Kalman et un \n",
    "lissage de Kalman sur ces données en faisant varier la valeur de R.\n",
    "On va réaliser cette opération un certain nombre de fois où l'on va generer des\n",
    "nouvelles données à chaque fois"
   ]
  },
  {
   "cell_type": "code",
   "execution_count": 1,
   "metadata": {},
   "outputs": [
    {
     "name": "stdout",
     "output_type": "stream",
     "text": [
      "Temps d'éxecution: 769.0486087799072 s\n"
     ]
    }
   ],
   "source": [
    "import numpy as np\n",
    "import matplotlib.pyplot as plt\n",
    "import time\n",
    "\n",
    "# Données \n",
    "S=100 #Nombre de fois que l'on va generer les données\n",
    "T=1000 #Nombre d'itérations\n",
    "Q_true=1 #Matrice de covariance de eta (ici scalaire)\n",
    "R_true=1 #Matrice de covariance de epsilon (ici scalaire)\n",
    "N=1000 #Nombre de valeurs de R différentes \n",
    "\n",
    "\n",
    "R_var=np.linspace(0.01,4,N) # Différentes valeurs de R \n",
    "\n",
    "RMSE=np.zeros((N,S)) # Matrice stockant la RMSE pour chaque valeur de R durant les S simulations\n",
    "mediane=np.zeros(N) #Vecteur regroupant la médiane de la RMSE pour chaque valeur de R sur toute les simulations\n",
    "cinqp=np.zeros(N) #Vecteur regroupant le quantile de 5% de la RMSE pour chaque valeur de R sur toute les simulations\n",
    "quatp=np.zeros(N) #Vecteur regroupe le quantile de 95% de la RMSE pour chaque valeur de R sur toute les simulations\n",
    "\n",
    "#Calcul du temps d'éxecution du code \n",
    "t1=time.time()\n",
    "\n",
    "for k in range(S):\n",
    "    np.random.seed(k)\n",
    "    \n",
    "    # Generate true state and noisy observation\n",
    "    x_true=np.zeros(T) # Vecteur de l'état du système à chaque instant t\n",
    "    y=np.zeros(T) # Vecteur des observations à chaque instant t \n",
    "    for t in range(T):\n",
    "        x_true[t]=0.95*x_true[t-1]+np.random.normal(0,Q_true)\n",
    "        y[t]=x_true[t]+np.random.normal(0,R_true)\n",
    "        \n",
    "    #Boucle sur le nombre d'éléments dans le vecteur R_var\n",
    "    for r in range(N):\n",
    "        # Kalman filter\n",
    "        \n",
    "        #initial condition\n",
    "        xb=x_true[0]\n",
    "        B=1\n",
    "        \n",
    "        #Filter Parameters\n",
    "        M=0.95\n",
    "        Q=Q_true\n",
    "        H=1\n",
    "        R=R_var[r]\n",
    "        \n",
    "        #Kalman filter (forward)\n",
    "        xf=np.zeros(T);Pf=np.zeros(T);xa=np.zeros(T);Pa=np.zeros(T)\n",
    "        for t in range(T):\n",
    "            if t==0:\n",
    "                xf[t]=xb\n",
    "                Pf[t]=B\n",
    "            else:\n",
    "                xf[t]=M*xa[t-1]\n",
    "                Pf[t]=M**2*Pa[t-1]+Q\n",
    "            K=Pf[t]*H/(H**2*Pf[t]+R)\n",
    "            xa[t]=xf[t]+K*(y[t]-H*xf[t])\n",
    "            Pa[t]=(1-K*H)*Pf[t]\n",
    "        \n",
    "        # Kalman Smoother\n",
    "        xs=np.zeros(T);Ps=np.zeros(T)\n",
    "        for t in range(T-1,-1,-1):\n",
    "            if t==T-1:\n",
    "                xs[t]=xa[t]\n",
    "                Ps[t]=Pa[t]\n",
    "            else:\n",
    "                Ks=Pa[t]*M/Pf[t+1]\n",
    "                xs[t]=xa[t]+Ks*(xs[t+1]-xf[t+1])\n",
    "                Ps[t]=Pa[t]+Ks**2*(Ps[t+1]-Pf[t+1])\n",
    "        \n",
    "        RMSE[r,k]=np.sqrt(np.sum((x_true-xs)**2)/T)\n",
    "        \n",
    "\n",
    "for r in range(N):\n",
    "    mediane[r]=np.quantile(RMSE[r,:],0.5)\n",
    "    cinqp[r]=np.quantile(RMSE[r,:],0.05)\n",
    "    quatp[r]=np.quantile(RMSE[r,:],0.95)\n",
    "\n",
    "    \n",
    "# Affichage du temps de calcul\n",
    "t2=time.time()-t1\n",
    "print(\"Temps d'éxecution:\",t2,\"s\")"
   ]
  },
  {
   "attachments": {},
   "cell_type": "markdown",
   "metadata": {},
   "source": [
    "Affichage de la RMSE"
   ]
  },
  {
   "cell_type": "code",
   "execution_count": 2,
   "metadata": {},
   "outputs": [
    {
     "data": {
      "text/plain": [
       "<matplotlib.legend.Legend at 0x27e97d6b7c0>"
      ]
     },
     "execution_count": 2,
     "metadata": {},
     "output_type": "execute_result"
    },
    {
     "data": {
      "image/png": "[encoded data removed]",
      "text/plain": [
       "<Figure size 432x288 with 1 Axes>"
      ]
     },
     "metadata": {
      "needs_background": "light"
     },
     "output_type": "display_data"
    }
   ],
   "source": [
    "#Affichage de la médiane de la RMSE sur plusieurs simulations \n",
    "plt.plot(R_var,mediane,'k',label=\"Quantile 50%\")\n",
    "plt.title(\"Médiane de la RMSE sur 100 simulations en fonction de R\") \n",
    "plt.xlabel(\"R\")\n",
    "plt.ylabel(\"mediane\")\n",
    "plt.fill_between(R_var,cinqp,quatp,color='grey',alpha=.2)\n",
    "plt.legend()"
   ]
  }
 ],
 "metadata": {
  "kernelspec": {
   "display_name": "base",
   "language": "python",
   "name": "python3"
  },
  "language_info": {
   "codemirror_mode": {
    "name": "ipython",
    "version": 3
   },
   "file_extension": ".py",
   "mimetype": "text/x-python",
   "name": "python",
   "nbconvert_exporter": "python",
   "pygments_lexer": "ipython3",
   "version": "3.10.9"
  },
  "orig_nbformat": 4
 },
 "nbformat": 4,
 "nbformat_minor": 2
}
