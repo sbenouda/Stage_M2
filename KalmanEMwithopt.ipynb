{
 "cells": [
  {
   "cell_type": "markdown",
   "id": "44e99212",
   "metadata": {},
   "source": [
    "# Iterative Kalman filter using the EM algorithm"
   ]
  },
  {
   "cell_type": "markdown",
   "id": "b6d232bf",
   "metadata": {},
   "source": [
    "This code can be used in both situation (using a PCA or not)\n",
    "by giving a value to a variable name opt:\n",
    "- When opt=0 that mean we don't use a PCA\n",
    "- Any integer leads to to the application of a PCA on the data"
   ]
  },
  {
   "cell_type": "markdown",
   "id": "093df35a",
   "metadata": {},
   "source": [
    "# Imports of libraries"
   ]
  },
  {
   "cell_type": "code",
   "execution_count": null,
   "id": "4172ff1b",
   "metadata": {},
   "outputs": [],
   "source": [
    "%load_ext autoreload\n",
    "%autoreload 2\n",
    "\n",
    "from Functions import *\n",
    "\n",
    "import netCDF4 as nc\n",
    "import numpy as np\n",
    "import matplotlib.pyplot as plt\n",
    "from numpy.linalg import inv\n",
    "from numpy.linalg import pinv\n",
    "from numpy.linalg import det\n",
    "import cartopy.crs as ccrs\n",
    "import cartopy.feature as cfeature\n",
    "import pandas as pd\n",
    "from scipy import stats\n",
    "from scipy.stats import norm,kurtosis,skew\n",
    "import imageio as iio\n",
    "from IPython import display\n",
    "from sklearn.decomposition import PCA\n"
   ]
  },
  {
   "cell_type": "markdown",
   "id": "bef00be6",
   "metadata": {},
   "source": [
    "# Read data"
   ]
  },
  {
   "cell_type": "code",
   "execution_count": null,
   "id": "4eba58f4",
   "metadata": {},
   "outputs": [],
   "source": [
    "fn='C:/M2_CSM/Stage/Stage/Codes/Stage_Algerie_2016.nc'\n",
    "ds=nc.Dataset(fn)\n",
    "\n",
    "# Variables associated with each dimension\n",
    "time=ds.variables['time']\n",
    "lat=ds.variables['latitude']\n",
    "long=ds.variables['longitude']\n",
    "\n",
    "# Other variables\n",
    "u_ais=ds.variables['u_ais'] # Eastward Water Velocity from AIS (m.s^-1)\n",
    "v_ais=ds.variables['v_ais'] # Northward Water Velocity form AIS (m.s^-1)\n",
    "var_u_ais=ds.variables['var_u_ais'] # Estimated Eastward Water Velocity variance error from AIS (m.s^-1)\n",
    "var_v_ais=ds.variables['var_v_ais'] # Estimated Northward Water Velocity variance error from AIS (m.s^-1)\n",
    "u_gos=ds.variables['u_gos'] # Eastward component from DUACS (m.s^-1)\n",
    "v_gos=ds.variables['v_gos'] # Northward_component_DUACS (m.s^-1)\n",
    "var_u_gos=ds.variables['var_u_gos'] # Eastward variance error component from DUACS\n",
    "var_v_gos=ds.variables['var_v_gos'] # Northward variance component error from DUACS"
   ]
  },
  {
   "cell_type": "code",
   "execution_count": null,
   "id": "77973f81",
   "metadata": {},
   "outputs": [],
   "source": [
    "T=time.size # Number of time steps\n",
    "La=lat.size # Number of latitude \n",
    "Lo=long.size # Number of longitude\n",
    "r=2*La*Lo # size of the state vector"
   ]
  },
  {
   "cell_type": "markdown",
   "id": "d0710fea",
   "metadata": {},
   "source": [
    "Data needed to display observation with cartopy"
   ]
  },
  {
   "cell_type": "code",
   "execution_count": null,
   "id": "db53bcf2",
   "metadata": {},
   "outputs": [],
   "source": [
    "LONG,LAT=np.meshgrid(long[:].data,lat[:].data)\n",
    "\n",
    "extent=[np.min(LONG),np.max(LONG),np.min(LAT),np.max(LAT)]\n",
    "central_lat=np.mean(LAT)\n",
    "central_long=np.mean(LONG)\n",
    "pcar=ccrs.PlateCarree()"
   ]
  },
  {
   "cell_type": "markdown",
   "id": "a20ce431",
   "metadata": {},
   "source": [
    "# Modification of data "
   ]
  },
  {
   "cell_type": "markdown",
   "id": "3fc56632",
   "metadata": {},
   "source": [
    "Construction of vectors u,v and their variances for ais observation and satellite observation"
   ]
  },
  {
   "cell_type": "code",
   "execution_count": null,
   "id": "d47e871a",
   "metadata": {},
   "outputs": [],
   "source": [
    "# Vectors u and v for ais observations  \n",
    "u_ais=u_ais[:].data\n",
    "v_ais=v_ais[:].data\n",
    "u=u_ais.flatten()\n",
    "v=v_ais.flatten()\n",
    "\n",
    "# Vectors of variances of u and v \n",
    "var_u_ais=var_u_ais[:].data\n",
    "var_v_ais=var_v_ais[:].data\n",
    "var_u=var_u_ais.flatten()\n",
    "var_v=var_v_ais.flatten()\n",
    "\n",
    "# Vectors u and v and their variances for satellite observations\n",
    "u_sat=u_gos[:].data\n",
    "v_sat=v_gos[:].data\n",
    "\n",
    "var_u_sat=var_u_gos[:].data\n",
    "var_v_sat=var_v_gos[:].data"
   ]
  },
  {
   "cell_type": "markdown",
   "id": "526e47ef",
   "metadata": {},
   "source": [
    "Check if u and var_u have the same number of NaN and at the same index. Same things for v and var_v. If not the index concerned is modified by a NaN"
   ]
  },
  {
   "cell_type": "code",
   "execution_count": null,
   "id": "fd26eb43",
   "metadata": {},
   "outputs": [],
   "source": [
    "for i in range(len(u)):\n",
    "            if np.isnan(u[i])==True:\n",
    "                var_u[i]=np.nan\n",
    "            if np.isnan(v[i])==True:\n",
    "                var_v[i]=np.nan\n",
    "            if np.isnan(var_u[i])==True:\n",
    "                u[i]=np.nan\n",
    "            if np.isnan(var_v[i])==True:\n",
    "                v[i]=np.nan"
   ]
  },
  {
   "cell_type": "markdown",
   "id": "345e4864",
   "metadata": {},
   "source": [
    "Modifications of u,v,var_u and var_v: u: we took only values in [-1.5,1.5] v: we took only values in [-1,1] var_u: we took only values < Quartile 95% var_v: we took only values < Quartile 95% All the values which don't verify this are transformed in NaN\n"
   ]
  },
  {
   "cell_type": "code",
   "execution_count": null,
   "id": "2ecdb04e",
   "metadata": {},
   "outputs": [],
   "source": [
    "# Transformation of data to take only the value in the interval \n",
    "#[-1.5,1.5] for u and [-1,1] for v\n",
    "for i in range(len(u)):\n",
    "    if (u[i]<-1.5) or (u[i]>1.5):\n",
    "        u[i]=np.nan\n",
    "        v[i]=np.nan\n",
    "        var_u[i]=np.nan\n",
    "        var_v[i]=np.nan\n",
    "    if (v[i]<-1) or (v[i]>1):\n",
    "        v[i]=np.nan\n",
    "        u[i]=np.nan\n",
    "        var_u[i]=np.nan\n",
    "        var_v[i]=np.nan\n",
    "\n",
    "# Buffer variables to calculate the quantiles of variances  \n",
    "\n",
    "var_utp=var_u\n",
    "var_vtp=var_v\n",
    "\n",
    "lvu=[]\n",
    "lvv=[]\n",
    "\n",
    "for k in range(len(var_utp)):\n",
    "    if (np.isnan(var_utp[k])==True) or (np.isinf(var_utp[k])==True):\n",
    "        lvu.append(k)\n",
    "    if (np.isnan(var_vtp[k])==True) or (np.isinf(var_vtp[k])==True):\n",
    "        lvv.append(k)\n",
    "        \n",
    "var_utp=np.delete(var_utp,lvu)\n",
    "var_vtp=np.delete(var_vtp,lvv)\n",
    "\n",
    "# Calculate quantiles Q1 and Q3 for var_u and var_v\n",
    "Q1u=np.quantile(var_utp,0.25)\n",
    "Q3u=np.quantile(var_utp,0.75)\n",
    "\n",
    "Q1v=np.quantile(var_vtp,0.25)\n",
    "Q3v=np.quantile(var_vtp,0.75)\n",
    "\n",
    "# D9 decile calculation for var_u and var_v\n",
    "D9u=min(np.max(var_utp),Q3u+1.5*(Q3u-Q1u))\n",
    "D9v=min(np.max(var_vtp),Q3v+1.5*(Q3v-Q1v))\n",
    "\n",
    "for k in range(len(u)):\n",
    "    if var_u[k]>D9u:\n",
    "        u[k]=np.nan\n",
    "        v[k]=np.nan\n",
    "        var_u[k]=np.nan\n",
    "        var_v[k]=np.nan\n",
    "    if var_v[k]>D9v:\n",
    "        u[k]=np.nan\n",
    "        v[k]=np.nan\n",
    "        var_u[k]=np.nan\n",
    "        var_v[k]=np.nan"
   ]
  },
  {
   "cell_type": "markdown",
   "id": "cefdfd98",
   "metadata": {},
   "source": [
    "Creation of the observation vector and its associated variance"
   ]
  },
  {
   "cell_type": "code",
   "execution_count": null,
   "id": "63c6a242",
   "metadata": {},
   "outputs": [],
   "source": [
    "# Reshape u and v\n",
    "u=np.reshape(u,(T,La,Lo))\n",
    "v=np.reshape(v,(T,La,Lo))\n",
    "var_u=np.reshape(var_u,(T,La,Lo))\n",
    "var_v=np.reshape(var_v,(T,La,Lo))\n",
    "\n",
    "# Création of y and var_y\n",
    "y=np.zeros((T,r))\n",
    "var_y=np.zeros((T,r))\n",
    "\n",
    "for t in range(T):\n",
    "    y[t,:]=np.concatenate((u[t,:,:].flatten(),v[t,:,:].flatten()))\n",
    "    var_y[t,:]=np.concatenate((var_u[t,:,:].flatten(),var_v[t,:,:].flatten()))"
   ]
  },
  {
   "cell_type": "markdown",
   "id": "487b9864",
   "metadata": {},
   "source": [
    "# Observations"
   ]
  },
  {
   "cell_type": "markdown",
   "id": "d2cc1370",
   "metadata": {},
   "source": [
    "Observation ais "
   ]
  },
  {
   "cell_type": "code",
   "execution_count": null,
   "id": "cd2e397f",
   "metadata": {},
   "outputs": [],
   "source": [
    "# Cartopy with ais observations\n",
    "\"\"\"\n",
    "for t in range(T):\n",
    "    plt.figure()\n",
    "    ax=plt.axes(projection=ccrs.Orthographic(central_long,central_lat))\n",
    "    ax.set_extent(extent)\n",
    "    gl=ax.gridlines(draw_labels=True)\n",
    "    gl.top_labels=False\n",
    "    gl.right_labels=False\n",
    "    ax.coastlines()\n",
    "    ax.add_feature(cfeature.LAND,edgecolor='black')\n",
    "    ax.add_feature(cfeature.OCEAN)\n",
    "    ax.quiver(LONG.flatten(),LAT.flatten(),u[t,:,:].flatten(),v[t,:,:].flatten(),transform=pcar) \n",
    "    plt.title('Image n° %i' %t )\n",
    "    plt.savefig('C:/M2_CSM/Stage/Stage/Codes/Kalman/codes/plot_observation/observation'+str(t)+'.png')\n",
    "    plt.close()\n",
    "\n",
    "frames=np.stack([iio.imread('C:/M2_CSM/Stage/Stage/Codes/Kalman/codes/plot_observation/observation'+str(t)+'.png')for t in range(time[:].data.size)],axis=0)\n",
    "iio.mimwrite('C:/M2_CSM/Stage/Stage/Codes/Kalman/codes/plot_observation/observations.gif',frames,duration=0.6)\n",
    "\"\"\"\n",
    "display.Image('C:/M2_CSM/Stage/Stage/Codes/Kalman/codes/plot_observation/observations.gif')\n"
   ]
  },
  {
   "cell_type": "markdown",
   "id": "d6a7c008",
   "metadata": {},
   "source": [
    "Observation satellite "
   ]
  },
  {
   "cell_type": "code",
   "execution_count": null,
   "id": "ea294b15",
   "metadata": {},
   "outputs": [],
   "source": [
    "# Cartopy with observations by satellite \n",
    "\"\"\"\n",
    "for t in range(T):\n",
    "    plt.figure()\n",
    "    ax=plt.axes(projection=ccrs.Orthographic(central_long,central_lat))\n",
    "    ax.set_extent(extent)\n",
    "    gl=ax.gridlines(draw_labels=True)\n",
    "    gl.top_labels=False\n",
    "    gl.right_labels=False\n",
    "    ax.coastlines()\n",
    "    ax.add_feature(cfeature.LAND,edgecolor='black')\n",
    "    ax.add_feature(cfeature.OCEAN)\n",
    "    ax.quiver(LONG,LAT,u_sat[t,:,:],v_sat[t,:,:],transform=pcar)\n",
    "    plt.title('Image n° %i' %t)\n",
    "    plt.savefig('C:/M2_CSM/Stage/Stage/Codes/Kalman/codes/obssat/obssat'+str(t)+'.png')\n",
    "    plt.close()\n",
    "\n",
    "frames=np.stack([iio.imread('C:/M2_CSM/Stage/Stage/Codes/Kalman/codes/obssat/obssat'+str(t)+'.png')for t in range(time[:].data.size)],axis=0)\n",
    "iio.mimwrite('C:/M2_CSM/Stage/Stage/Codes/Kalman/codes/obssat/obssat.gif',frames,duration=0.6)   \n",
    "\"\"\"\n",
    "display.Image('C:/M2_CSM/Stage/Stage/Codes/Kalman/codes/obssat/obssat.gif')\n"
   ]
  },
  {
   "cell_type": "markdown",
   "id": "2fbd6468",
   "metadata": {},
   "source": [
    "# Sample of data"
   ]
  },
  {
   "cell_type": "markdown",
   "id": "3b5893b3",
   "metadata": {},
   "source": [
    "We took only a part of data in order to apply the Kalman filter algorithm using the EM algorithm.\n",
    "We set the variable opt here :\n",
    "- If opt=0, that mean we use only a part of the data which can be allocated ( no PCA use here)\n",
    "- If opt!=0, that mean we use a PCA here\n",
    "Lists of line and column are not the same,according to the value of opt \n"
   ]
  },
  {
   "cell_type": "code",
   "execution_count": null,
   "id": "badf2866",
   "metadata": {},
   "outputs": [],
   "source": [
    "# Variable option use to know if we apply a PCA or not on data\n",
    "opt=1\n",
    "\n",
    "# Creation of vector u and v meaning it's a part of the data\n",
    "uc=u\n",
    "vc=v\n",
    "var_uc=var_u\n",
    "var_vc=var_v\n",
    "\n",
    "#Creation of integer lists \n",
    "ligne=[]\n",
    "colonne=[]\n",
    "\n",
    "if opt==0:\n",
    "    for k in range(0,5):\n",
    "        ligne.append(k)\n",
    "\n",
    "    for k in range(16,u.shape[1]):\n",
    "        ligne.append(k)\n",
    "\n",
    "    for k in range(0,5):\n",
    "        colonne.append(k)\n",
    "        \n",
    "    for k in range(40,u.shape[2]):\n",
    "        colonne.append(k)\n",
    "\n",
    "# A retirer (permet de verifier si avec acp pour même nombre on a les meme resultats)\n",
    "#else:    \n",
    "#    for k in range(int(u.shape[1]/3)+1):\n",
    "#        ligne.append(k)\n",
    "#    for k in range(15,u.shape[1]):\n",
    "#        ligne.append(k)\n",
    "#    for k in range(0,24):\n",
    "#        colonne.append(k)\n",
    "#    for k in range(40,u.shape[2]):\n",
    "#        colonne.append(k)\n",
    "\n",
    "else:\n",
    "    for k in range(0,5):\n",
    "        ligne.append(k)\n",
    "\n",
    "    for k in range(14,u.shape[1]):\n",
    "        ligne.append(k)\n",
    "    \n",
    "    for k in range(0,5):\n",
    "        colonne.append(k)\n",
    "        \n",
    "    for k in range(24,u.shape[2]):\n",
    "        colonne.append(k)\n",
    "\n",
    "# We delete in uc and vc the integers contains in the lists \n",
    "#ligne and colonne\n",
    "uc=np.delete(uc,ligne,1)\n",
    "uc=np.delete(uc,colonne,2)\n",
    "\n",
    "vc=np.delete(vc,ligne,1)\n",
    "vc=np.delete(vc,colonne,2)\n",
    "\n",
    "var_uc=np.delete(var_uc,ligne,1)\n",
    "var_uc=np.delete(var_uc,colonne,2)\n",
    "\n",
    "var_vc=np.delete(var_vc,ligne,1)\n",
    "var_vc=np.delete(var_vc,colonne,2)\n",
    "\n",
    "# Creation of the observation vector y and its associated variance var_y\n",
    "# from uc and vc\n",
    "nr=2*uc.shape[1]*uc.shape[2]\n",
    "yc=np.zeros((T,nr))\n",
    "var_yc=np.zeros((T,nr))\n",
    "\n",
    "#vectors filling\n",
    "for t in range(T):\n",
    "    yc[t,:]=np.concatenate((uc[t,:,:].flatten(),vc[t,:,:].flatten()))\n",
    "    var_yc[t,:]=np.concatenate((var_uc[t,:,:].flatten(),var_vc[t,:,:].flatten()))"
   ]
  },
  {
   "cell_type": "markdown",
   "id": "41313639",
   "metadata": {},
   "source": [
    "We performed the same thing above for the satellite data\n",
    "by using the same lists line and column."
   ]
  },
  {
   "cell_type": "code",
   "execution_count": null,
   "id": "bb48ef43",
   "metadata": {},
   "outputs": [],
   "source": [
    "# Creation of u_satc and v_satc and their associated variances\n",
    "u_satc=np.delete(u_sat,ligne,1)\n",
    "u_satc=np.delete(u_satc,colonne,2)\n",
    "\n",
    "v_satc=np.delete(v_sat,ligne,1)\n",
    "v_satc=np.delete(v_satc,colonne,2)\n",
    "\n",
    "var_u_satc=np.delete(var_u_sat,ligne,1)\n",
    "var_u_satc=np.delete(var_u_satc,colonne,2)\n",
    "\n",
    "var_v_satc=np.delete(var_v_sat,ligne,1)\n",
    "var_v_satc=np.delete(var_v_satc,colonne,2)\n",
    "\n",
    "# Création of y_sat\n",
    "y_sat=np.zeros((T,nr))\n",
    "var_y_sat=np.zeros((T,nr))\n",
    "\n",
    "# Vectors filling\n",
    "\n",
    "for t in range(T):\n",
    "    y_sat[t,:]=np.concatenate((u_satc[t,:].flatten(),v_satc[t,:].flatten()))\n",
    "    var_y_sat[t,:]=np.concatenate((var_u_satc[t,:].flatten(),var_v_satc[t,:].flatten()))"
   ]
  },
  {
   "cell_type": "markdown",
   "id": "5fe9fecf",
   "metadata": {},
   "source": [
    "# Pseudo satellite observations"
   ]
  },
  {
   "cell_type": "markdown",
   "id": "5fa6cfc4",
   "metadata": {},
   "source": [
    "We use satellite observation here to verify if the algorithm works\n",
    "We took the satelitte observations and put a NaN in index where we have a NaN in the ais observations."
   ]
  },
  {
   "cell_type": "code",
   "execution_count": null,
   "id": "bad6b850",
   "metadata": {},
   "outputs": [],
   "source": [
    "# Creation of y_art and its associated variance.\n",
    "y_art=np.zeros((T,nr))\n",
    "var_y_art=np.zeros((T,nr))\n",
    "\n",
    "# Put NaN at each index where yc has a NaN\n",
    "for t in range(T):\n",
    "    y_art[t,:]=y_sat[t,:]\n",
    "    var_y_art[t,:]=var_y_sat[t,:]\n",
    "    \n",
    "    iais=lisind(yc,t,nr)\n",
    "    ivarais=lisind(var_yc,t,nr)\n",
    "    for i in range(len(iais)):\n",
    "        y_art[t,iais[i]]=np.nan\n",
    "        var_y_art[t,ivarais[i]]=np.nan"
   ]
  },
  {
   "cell_type": "code",
   "execution_count": null,
   "id": "118bd623",
   "metadata": {},
   "outputs": [],
   "source": [
    "\"\"\"\n",
    "Utiliser pour connaitre le pourcentage de données d'apprentissage \n",
    "cn=0\n",
    "for t in range(T):\n",
    "    for i in range(nr):\n",
    "        if np.isnan(y_art[t,i])==True:\n",
    "            cn=cn+1\n",
    "pr=T*nr-cn\n",
    "pr=pr/(T*nr)*100\n",
    "\n",
    "print(pr)\n",
    "\n",
    "\"\"\""
   ]
  },
  {
   "cell_type": "markdown",
   "id": "eef08af5",
   "metadata": {},
   "source": [
    "# Validation data"
   ]
  },
  {
   "cell_type": "markdown",
   "id": "3544c3ca",
   "metadata": {},
   "source": [
    "This part we place all the data where we put a NaN in a new vector.\n",
    "It is use at the end of the algorithm to verify the results."
   ]
  },
  {
   "cell_type": "code",
   "execution_count": null,
   "id": "14dadfd7",
   "metadata": {},
   "outputs": [],
   "source": [
    "y_val=np.nan*np.ones((T,nr))\n",
    "for t in range(T):\n",
    "    iais=lisind(yc,t,nr)\n",
    "    for i in range(len(iais)):\n",
    "        y_val[t,iais[i]]=y_sat[t,iais[i]]"
   ]
  },
  {
   "cell_type": "markdown",
   "id": "28cde5de",
   "metadata": {},
   "source": [
    "# Observations in the delimited area"
   ]
  },
  {
   "cell_type": "markdown",
   "id": "2d9fde7e",
   "metadata": {},
   "source": [
    "Observation AIS"
   ]
  },
  {
   "cell_type": "code",
   "execution_count": null,
   "id": "090e5f2c",
   "metadata": {},
   "outputs": [],
   "source": [
    "# Plot of observation in the restricted zone \n",
    "\n",
    "LATdi=np.delete(LAT,ligne,0)\n",
    "LATdi=np.delete(LATdi,colonne,1)\n",
    "\n",
    "LONGdi=np.delete(LONG,ligne,0)\n",
    "LONGdi=np.delete(LONGdi,colonne,1)\n",
    "\n",
    "extentdi=[np.min(LONGdi),np.max(LONGdi),np.min(LATdi),np.max(LATdi)]\n",
    "central_latdi=np.mean(LATdi)\n",
    "central_longdi=np.mean(LONGdi)\n",
    "\n",
    "Ladi=LATdi.shape[0]\n",
    "Lodi=LATdi.shape[1]\n",
    "\"\"\"\n",
    "for t in range(T):\n",
    "    plt.figure()\n",
    "    ax2=plt.axes(projection=ccrs.Orthographic(central_longdi,central_latdi))\n",
    "    ax2.set_extent(extentdi)\n",
    "    gl=ax2.gridlines(draw_labels=True)\n",
    "    gl.top_labels=False\n",
    "    gl.right_labels=False\n",
    "    ax2.coastlines()\n",
    "    ax2.add_feature(cfeature.LAND,edgecolor='black')\n",
    "    ax2.add_feature(cfeature.OCEAN)    \n",
    "    ax2.quiver(LONGdi.flatten(),LATdi.flatten(),uc[t,:,:].flatten(),vc[t,:,:].flatten(),transform=pcar)\n",
    "    plt.title('Image n° %i' %t)\n",
    "    plt.savefig('C:/M2_CSM/Stage/Stage/Codes/Kalman/codes/restricted_obs/resobs'+str(t)+'.png')\n",
    "    plt.close()\n",
    "\n",
    "# Creation of the gif \n",
    "frames=np.stack([iio.imread('C:/M2_CSM/Stage/Stage/Codes/Kalman/codes/restricted_obs/resobs'+str(t)+'.png')for t in range(time[:].data.size)],axis=0)\n",
    "iio.mimwrite('C:/M2_CSM/Stage/Stage/Codes/Kalman/codes/restricted_obs/resobs.gif',frames,duration=0.6)   \n",
    "\"\"\"\n",
    "display.Image('C:/M2_CSM/Stage/Stage/Codes/Kalman/codes/restricted_obs/resobs.gif')\n"
   ]
  },
  {
   "cell_type": "markdown",
   "id": "96ede09c",
   "metadata": {},
   "source": [
    "Satellite observations"
   ]
  },
  {
   "cell_type": "code",
   "execution_count": null,
   "id": "76c61865",
   "metadata": {},
   "outputs": [],
   "source": [
    "\"\"\"\n",
    "for t in range(T):\n",
    "    plt.figure()\n",
    "    ax2=plt.axes(projection=ccrs.Orthographic(central_longdi,central_latdi))\n",
    "    ax2.set_extent(extentdi)\n",
    "    gl=ax2.gridlines(draw_labels=True)\n",
    "    gl.top_labels=False\n",
    "    gl.right_labels=False\n",
    "    ax2.coastlines()\n",
    "    ax2.add_feature(cfeature.LAND,edgecolor='black')\n",
    "    ax2.add_feature(cfeature.OCEAN)    \n",
    "    ax2.quiver(LONGdi.flatten(),LATdi.flatten(),u_satc[t,:,:].flatten(),v_satc[t,:,:].flatten(),transform=pcar)\n",
    "    plt.title('Image n° %i' %t)\n",
    "    plt.savefig('C:/M2_CSM/Stage/Stage/Codes/Kalman/codes/restricted_obssat/resobssat'+str(t)+'.png')\n",
    "    plt.close()\n",
    "\n",
    "# Creation of the gif\n",
    "frames=np.stack([iio.imread('C:/M2_CSM/Stage/Stage/Codes/Kalman/codes/restricted_obssat/resobssat'+str(t)+'.png')for t in range(time[:].data.size)],axis=0)\n",
    "iio.mimwrite('C:/M2_CSM/Stage/Stage/Codes/Kalman/codes/restricted_obssat/resobssat.gif',frames,duration=0.6)   \n",
    "\"\"\"\n",
    "display.Image('C:/M2_CSM/Stage/Stage/Codes/Kalman/codes/restricted_obssat/resobssat.gif')\n"
   ]
  },
  {
   "cell_type": "markdown",
   "id": "7f8772e8",
   "metadata": {},
   "source": [
    "# Initialisation "
   ]
  },
  {
   "cell_type": "markdown",
   "id": "f5a77098",
   "metadata": {},
   "source": [
    "In this part we are going to initialize M,Q,R,H,x0 and P0 for the first Kalman filter.\n",
    "In the function below all the arguments are not used, that depend of the value of opt."
   ]
  },
  {
   "cell_type": "code",
   "execution_count": null,
   "id": "c6000d70",
   "metadata": {},
   "outputs": [],
   "source": [
    "n=50 # Number of components (use for the PCA,but ask in the function)\n",
    "M,Q,R,x0,P0=IC(opt,nr,n,LONGdi,LATdi,y_sat,var_y_art)\n",
    "if opt==0:\n",
    "    H=np.eye(nr)\n",
    "else:\n",
    "    pca=PCA(n_components=n)\n",
    "    EOF=pca.fit(y_sat)\n",
    "    H=np.transpose(EOF.components_)\n",
    "    #y_acp=pca.fit_transform(y_sat)\n",
    "    #y_invacp=pca.inverse_transform(y_acp)"
   ]
  },
  {
   "cell_type": "code",
   "execution_count": null,
   "id": "0c56c6eb",
   "metadata": {},
   "outputs": [],
   "source": [
    "# Les duex lignes recuperant y_invacp et ce qui suit est à supprimer ultérieurement  \n",
    "\"\"\"\n",
    "pix=int(nr/2)\n",
    "\n",
    "uacp=np.zeros((T,pix))\n",
    "vacp=np.zeros((T,pix))\n",
    "\n",
    "usat=np.zeros((T,pix))\n",
    "vsat=np.zeros((T,pix))\n",
    "\n",
    "for t in range(T):\n",
    "    uacp[t,:]=y_invacp[t,0:pix]\n",
    "    vacp[t,:]=y_invacp[t,pix:]\n",
    "    \n",
    "    usat[t,:]=y_sat[t,0:pix]\n",
    "    vsat[t,:]=y_sat[t,pix:]\n",
    "\n",
    "uacp=np.reshape(uacp,(T,Ladi,Lodi))\n",
    "vacp=np.reshape(vacp,(T,Ladi,Lodi))\n",
    "\n",
    "usat=np.reshape(usat,(T,Ladi,Lodi))\n",
    "vsat=np.reshape(vsat,(T,Ladi,Lodi))\n",
    "\n",
    "for t in range(T):\n",
    "    plt.figure()\n",
    "    ax2=plt.axes(projection=ccrs.Orthographic(central_longdi,central_latdi))\n",
    "    ax2.set_extent(extentdi)\n",
    "    gl=ax2.gridlines(draw_labels=True)\n",
    "    gl.top_labels=False\n",
    "    gl.right_labels=False\n",
    "    ax2.coastlines()\n",
    "    ax2.add_feature(cfeature.LAND,edgecolor='black')\n",
    "    ax2.add_feature(cfeature.OCEAN)    \n",
    "    ax2.quiver(LONGdi,LATdi,usat[t,:,:],vsat[t,:,:],color='red',label='pseudo satelitte obs',transform=pcar)\n",
    "    ax2.quiver(LONGdi,LATdi,uacp[t,:,:],vacp[t,:,:],color='blue',label='inverse_transformacp',transform=pcar)\n",
    "    plt.legend(bbox_to_anchor=(0,-0.4,1,0.2),loc=\"lower center\")\n",
    "    plt.title('Image n° %i' %t)\n",
    "    plt.savefig('C:/M2_CSM/Stage/Stage/Codes/Kalman/codes/plotacp/obssatacp'+str(t)+'.png')\n",
    "    plt.close()\n",
    "\n",
    "# Creation of the gif\n",
    "frames=np.stack([iio.imread('C:/M2_CSM/Stage/Stage/Codes/Kalman/codes/plotacp/obssatacp'+str(t)+'.png')for t in range(time[:].data.size)],axis=0)\n",
    "iio.mimwrite('C:/M2_CSM/Stage/Stage/Codes/Kalman/codes/plotacp/obssatacp.gif',frames,duration=0.6)   \n",
    "\"\"\"\n",
    "display.Image('C:/M2_CSM/Stage/Stage/Codes/Kalman/codes/plotacp/obssatacp.gif')\n",
    "\n"
   ]
  },
  {
   "cell_type": "markdown",
   "id": "a398e945",
   "metadata": {},
   "source": [
    "# Apply the iterative Kalman filter using EM algotithm"
   ]
  },
  {
   "cell_type": "code",
   "execution_count": null,
   "id": "6ef9f03e",
   "metadata": {},
   "outputs": [],
   "source": [
    "N=10 # number of iteration \n",
    "slk,M,Q,R,xs,Ps=Kalman_EM(y_art,var_y_art,x0,P0,M,Q,R,H,N,opt)"
   ]
  },
  {
   "cell_type": "code",
   "execution_count": null,
   "id": "cb20b7ec",
   "metadata": {},
   "outputs": [],
   "source": [
    "print('index max of slk is:',np.argmax(slk)) # use to know the maximum and where we get the best result"
   ]
  },
  {
   "cell_type": "markdown",
   "id": "b86c9d37",
   "metadata": {},
   "source": [
    "# Results"
   ]
  },
  {
   "cell_type": "markdown",
   "id": "c66497d5",
   "metadata": {},
   "source": [
    "Loglikelihood"
   ]
  },
  {
   "cell_type": "code",
   "execution_count": null,
   "id": "bb8d7216",
   "metadata": {},
   "outputs": [],
   "source": [
    "plt.figure()\n",
    "plt.plot(np.linspace(0,N-1,N),slk)\n",
    "plt.title(\"sum of loglik\")\n",
    "plt.xlabel('iteration number')\n",
    "plt.ylabel(\"sum of loglikelihood\")\n",
    "plt.savefig('C:/M2_CSM/Stage/Stage/Codes/Kalman/codes/Results/LoglikEMsat.png')\n"
   ]
  },
  {
   "cell_type": "code",
   "execution_count": null,
   "id": "78d6286f",
   "metadata": {},
   "outputs": [],
   "source": [
    "\"\"\"\n",
    "plt.figure()\n",
    "plt.plot(np.linspace(0,N-1,N),sRMSE)\n",
    "plt.title(\"sum of RMSE\")\n",
    "plt.xlabel('iteration number')\n",
    "plt.ylabel(\"sum of RMSE\")\n",
    "\"\"\""
   ]
  },
  {
   "cell_type": "markdown",
   "id": "69e56333",
   "metadata": {},
   "source": [
    "Matrix M,Q and R"
   ]
  },
  {
   "cell_type": "code",
   "execution_count": null,
   "id": "163acfd7",
   "metadata": {},
   "outputs": [],
   "source": [
    "a=np.max((abs(np.min(M)),abs(np.max(M))))\n",
    "\n",
    "plt.figure()\n",
    "plt.pcolor(M,cmap='RdBu_r',vmin=-a,vmax=a)\n",
    "plt.colorbar()\n",
    "plt.title('M')\n",
    "plt.savefig('C:/M2_CSM/Stage/Stage/Codes/Kalman/codes/Results/MEMpseudosat.png')\n",
    "\n",
    "plt.figure()\n",
    "plt.pcolor(Q,cmap='gist_yarg')\n",
    "plt.colorbar()\n",
    "plt.title('Q')\n",
    "plt.savefig('C:/M2_CSM/Stage/Stage/Codes/Kalman/codes/Results/QEMpseudosat.png')\n",
    "\n",
    "plt.figure()\n",
    "plt.pcolor(R[0,:,:],cmap='gist_yarg')\n",
    "plt.colorbar()\n",
    "plt.title('R')\n",
    "plt.savefig('C:/M2_CSM/Stage/Stage/Codes/Kalman/codes/Results/REMpseudosat.png')"
   ]
  },
  {
   "cell_type": "markdown",
   "id": "39373ad5",
   "metadata": {},
   "source": [
    "### Passage into the canonical base"
   ]
  },
  {
   "cell_type": "markdown",
   "id": "92c574c6",
   "metadata": {},
   "source": [
    "This part is use if opt!=0 , that mean a PCA on the data is used."
   ]
  },
  {
   "cell_type": "code",
   "execution_count": null,
   "id": "c0cd8f7b",
   "metadata": {},
   "outputs": [],
   "source": [
    "if opt!=0:\n",
    "    nxs=np.zeros((T,nr))\n",
    "    nPs=np.zeros((T,nr,nr))\n",
    "    for t in range(T):\n",
    "        nxs[t,:]=np.transpose(H@np.transpose(np.array([xs[t,:]])))\n",
    "        nPs[t,:]=H@Ps[t,:,:]@np.transpose(H)\n",
    "    xs=pca.inverse_transform(xs)\n",
    "    print(nxs[0,:]-xs[0,:])\n",
    "    xs=nxs\n",
    "    Ps=nPs"
   ]
  },
  {
   "cell_type": "code",
   "execution_count": null,
   "id": "7f1b6724",
   "metadata": {},
   "outputs": [],
   "source": [
    "if opt!=0:\n",
    "    print('min=',np.min(nxs),'max=',np.max(nxs))\n",
    "    print(np.shape(Ps),np.min(Ps),np.max(Ps))"
   ]
  },
  {
   "cell_type": "code",
   "execution_count": null,
   "id": "66c294b7",
   "metadata": {},
   "outputs": [],
   "source": [
    "print('min =',np.min(xs),'max =',np.max(xs))\n",
    "print('Ps min =',np.min(Ps),'max =',np.max(Ps))"
   ]
  },
  {
   "cell_type": "markdown",
   "id": "13b171af",
   "metadata": {},
   "source": [
    "Graphics of xs "
   ]
  },
  {
   "cell_type": "code",
   "execution_count": null,
   "id": "14b366d2",
   "metadata": {},
   "outputs": [],
   "source": [
    "mid=int(len(xs[0,:])/2)\n",
    "quart=int(len(xs[0,:])/4)\n",
    "tquart=int(3*len(xs[0,:])/4)\n",
    "plt.figure()\n",
    "plt.plot(np.linspace(0,yc.shape[0]-1,yc.shape[0]),xs[:,tquart],'r',linewidth=2,label='Estimated state $xs$')\n",
    "plt.plot(np.linspace(0,yc.shape[0]-1,yc.shape[0]),y_art[:,tquart],'.k',label=' pseudo-sat Observations')\n",
    "#plt.plot(np.linspace(0,yc.shape[0]-1,yc.shape[0]),y_sat[:,tquart],color='blue',label='satelitte observations')\n",
    "plt.fill_between(np.linspace(0,yc.shape[0]-1,yc.shape[0]),xs[:,tquart]-1.96*np.sqrt(Ps[:,tquart,tquart]),xs[:,tquart]+1.96*np.sqrt(Ps[:,tquart,tquart]),alpha=0.25,color='red')\n",
    "#plt.ylim(-0.2,0.4)\n",
    "plt.legend(loc='best')\n",
    "plt.xlabel('time [day]')\n",
    "plt.ylabel('velocity [$m.s^-1$]')\n",
    "plt.title('xs (corresponding to v at the place 3/4)')\n",
    "plt.savefig('C:/M2_CSM/Stage/Stage/Codes/Kalman/codes/Results/xspseudo_sat.png')"
   ]
  },
  {
   "cell_type": "code",
   "execution_count": null,
   "id": "931af1d5",
   "metadata": {},
   "outputs": [],
   "source": [
    "#Résulats pour le centre des u et le centre des v par rapport au temps \n",
    "\n",
    "us=np.zeros((T,mid))\n",
    "vs=np.zeros((T,mid))\n",
    "\n",
    "usat=np.zeros((T,mid))\n",
    "vsat=np.zeros((T,mid))\n",
    "\n",
    "uart=np.zeros((T,mid))\n",
    "vart=np.zeros((T,mid))\n",
    "\n",
    "uval=np.zeros((T,mid))\n",
    "vval=np.zeros((T,mid))\n",
    "\n",
    "for t in range(T):\n",
    "    us[t,:]=xs[t,0:mid]\n",
    "    vs[t,:]=xs[t,mid:]\n",
    "    \n",
    "    usat[t,:]=y_sat[t,0:mid]\n",
    "    vsat[t,:]=y_sat[t,mid:]\n",
    "    \n",
    "    uart[t,:]=y_art[t,0:mid]\n",
    "    vart[t,:]=y_art[t,mid:]\n",
    "    \n",
    "    uval[t,:]=y_val[t,0:mid]\n",
    "    vval[t,:]=y_val[t,mid:]\n",
    "\n",
    "middir=int(len(us[0,:])/2)\n",
    "\n",
    "plt.figure()\n",
    "plt.plot(np.linspace(0,yc.shape[0]-1,yc.shape[0]),us[:,middir],'r',linewidth=2,label='reconstructed currents')\n",
    "plt.fill_between(np.linspace(0,yc.shape[0]-1,yc.shape[0]),us[:,middir]-1.96*np.sqrt(Ps[:,middir,middir]),us[:,middir]+1.96*np.sqrt(Ps[:,middir,middir]),alpha=0.25,color='red')\n",
    "plt.plot(np.linspace(0,yc.shape[0]-1,yc.shape[0]),uart[:,middir],color='blue',marker='*',label='pseudo_satelitte observations')\n",
    "#plt.ylim(-0.3,0.3)\n",
    "plt.title('Composante central des us')\n",
    "plt.legend(loc='best')\n",
    "plt.ylabel('velocity [$m.s^-1$]')\n",
    "plt.xlabel('time [day]')\n",
    "plt.savefig('C:/M2_CSM/Stage/Stage/Codes/Kalman/codes/Results/uspseudo_sat.png')\n",
    "\n",
    "plt.figure()\n",
    "plt.plot(np.linspace(0,yc.shape[0]-1,yc.shape[0]),vs[:,middir],'r',linewidth=2,label='reconstructed currents')\n",
    "plt.fill_between(np.linspace(0,yc.shape[0]-1,yc.shape[0]),vs[:,middir]-1.96*np.sqrt(Ps[:,mid+middir,mid+middir]),vs[:,middir]+1.96*np.sqrt(Ps[:,mid+middir,mid+middir]),alpha=0.25,color='red')\n",
    "plt.plot(np.linspace(0,yc.shape[0]-1,yc.shape[0]),vart[:,middir],color='blue',marker='*',label='pseudo_satelitte observations')\n",
    "#plt.ylim(-0.2,0.4)\n",
    "plt.legend(loc='best')\n",
    "plt.title('Composante centrale des vs')\n",
    "plt.xlabel('time [day]')\n",
    "plt.ylabel('velocity [$m.s^-1$]')\n",
    "plt.savefig('C:/M2_CSM/Stage/Stage/Codes/Kalman/codes/Results/vspseudo_sat.png')"
   ]
  },
  {
   "cell_type": "markdown",
   "id": "f0e1fbbd",
   "metadata": {},
   "source": [
    "# Map of reconstructed currents which we add validation data"
   ]
  },
  {
   "cell_type": "code",
   "execution_count": null,
   "id": "4b4dff7f",
   "metadata": {},
   "outputs": [],
   "source": [
    "if opt==0:\n",
    "    var_us=np.zeros((T,mid))\n",
    "    var_vs=np.zeros((T,mid))\n",
    "    for t in range(T):\n",
    "        var_us[t,:]=np.diag(Ps[t,:,:])[0:mid]\n",
    "        var_vs[t,:]=np.diag(Ps[t,:,:])[mid:]\n",
    "\n",
    "#Reshape of all the data in array(time,lat,long)\n",
    "us=np.reshape(us,(T,Ladi,Lodi))\n",
    "vs=np.reshape(vs,(T,Ladi,Lodi))\n",
    "if opt==0:\n",
    "    var_us=np.reshape(var_us,(T,Ladi,Lodi))\n",
    "    var_vs=np.reshape(var_vs,(T,Ladi,Lodi))\n",
    "\n",
    "\n",
    "#Reshape\n",
    "uart=np.reshape(uart,(T,Ladi,Lodi))\n",
    "vart=np.reshape(vart,(T,Ladi,Lodi))\n",
    "\n",
    "uval=np.reshape(uval,(T,Ladi,Lodi))\n",
    "vval=np.reshape(vval,(T,Ladi,Lodi))\n",
    "\n",
    "# Superposition des résultats de Kalman avec ceux des observations satellites \n",
    "\n",
    "for t in range(T):\n",
    "    speed=np.sqrt(us[t,:,:]**2 +vs[t,:,:]**2)\n",
    "    lw=5*speed/speed.max()\n",
    "    plt.figure()\n",
    "    ax=plt.axes(projection=ccrs.Orthographic(central_longdi,central_latdi))\n",
    "    ax.set_extent(extentdi)\n",
    "    gl=ax.gridlines(draw_labels=True)\n",
    "    gl.top_labels=False\n",
    "    gl.right_labels=False\n",
    "    ax.coastlines()\n",
    "    ax.add_feature(cfeature.LAND,edgecolor='black')\n",
    "    ax.add_feature(cfeature.OCEAN)\n",
    "    ax.quiver(LONGdi,LATdi,uart[t,:,:],vart[t,:,:],color='red',label='pseudo satelitte obs',transform=pcar)\n",
    "    ax.quiver(LONGdi,LATdi,uval[t,:,:],vval[t,:,:],color='blue',label='validation obs',transform=pcar)\n",
    "    #ax.quiver(LONGdi,LATdi,us[t,:,:],vs[t,:,:],color='black',label='reconstructed currents',transform=pcar)\n",
    "    #ax.quiver(LONGdi,LATdi,uc[t,:,:],vc[t,:,:],color='green',label='obs ais',transform=pcar)\n",
    "    plt.legend(bbox_to_anchor=(0,-0.4,1,0.2),loc=\"lower center\")\n",
    "    ax.streamplot(LONGdi,LATdi,us[t,:,:],vs[t,:,:],density=0.6,color='k',linewidth=lw,transform=pcar)\n",
    "    plt.title('Image n° %i' %t)\n",
    "    plt.savefig('C:/M2_CSM/Stage/Stage/Codes/Kalman/codes/supresEM/kalsatEM'+str(t)+'.png')\n",
    "    plt.close()\n",
    "\n",
    "frames=np.stack([iio.imread('C:/M2_CSM/Stage/Stage/Codes/Kalman/codes/supresEM/kalsatEM'+str(t)+'.png')for t in range(time[:].data.size)],axis=0)\n",
    "iio.mimwrite('C:/M2_CSM/Stage/Stage/Codes/Kalman/codes/supresEM/kalsat.gif',frames,duration=0.9)   \n",
    "\n",
    "display.Image('C:/M2_CSM/Stage/Stage/Codes/Kalman/codes/supresEM/kalsat.gif')"
   ]
  },
  {
   "cell_type": "markdown",
   "id": "19bd8a19",
   "metadata": {},
   "source": [
    "# RMSE"
   ]
  },
  {
   "cell_type": "code",
   "execution_count": null,
   "id": "c6357749",
   "metadata": {},
   "outputs": [],
   "source": [
    "RMSE=np.zeros(nr)\n",
    "pix=int((nr/2))\n",
    "for i in range(nr):\n",
    "    RMSE[i]=np.sqrt(np.sum((y_sat[:,i]-xs[:,i])**2)/T)\n",
    "    \n",
    "RMSEzonal=RMSE[0:pix]\n",
    "RMSEmeri=RMSE[pix:nr]\n",
    "\n",
    "plt.figure()\n",
    "ax=plt.axes(projection=ccrs.Orthographic(central_longdi,central_latdi))\n",
    "ax.set_extent(extentdi)\n",
    "gl=ax.gridlines(draw_labels=True)\n",
    "gl.top_labels=False\n",
    "gl.right_labels=False\n",
    "ax.coastlines()\n",
    "ax.add_feature(cfeature.LAND,edgecolor='black')\n",
    "ax.add_feature(cfeature.OCEAN)\n",
    "cbzo=ax.scatter(LONGdi.flatten(),LATdi.flatten(),s=50,c=RMSEzonal,cmap='jet',transform=pcar)\n",
    "plt.colorbar(cbzo,cmap='jet',orientation='vertical',ticklocation='auto')\n",
    "plt.title('RMSE of the zonal component of oceanic currents')\n",
    "#plt.savefig('C:/M2_CSM/Stage/Stage/Codes/Kalman/codes/Results/RMSEzonsat.png')"
   ]
  },
  {
   "cell_type": "code",
   "execution_count": null,
   "id": "03287b48",
   "metadata": {},
   "outputs": [],
   "source": [
    "plt.figure()\n",
    "ax=plt.axes(projection=ccrs.Orthographic(central_longdi,central_latdi))\n",
    "ax.set_extent(extentdi)\n",
    "gl=ax.gridlines(draw_labels=True)\n",
    "gl.top_labels=False\n",
    "gl.right_labels=False\n",
    "ax.coastlines()\n",
    "ax.add_feature(cfeature.LAND,edgecolor='black')\n",
    "ax.add_feature(cfeature.OCEAN)\n",
    "cbme=ax.scatter(LONGdi.flatten(),LATdi.flatten(),s=50,c=RMSEmeri,cmap='jet',transform=pcar)\n",
    "plt.colorbar(cbme,cmap='jet',orientation='vertical',ticklocation='auto')\n",
    "plt.title('RMSE of the southern component of oceanic currents')\n",
    "#plt.savefig('C:/M2_CSM/Stage/Stage/Codes/Kalman/codes/Results/RMSEsousat.png')"
   ]
  },
  {
   "cell_type": "code",
   "execution_count": null,
   "id": "b82ceeba",
   "metadata": {},
   "outputs": [],
   "source": [
    "# Map of correlations for a line\n",
    "l=int(pix/4) # number of the line we choose\n",
    "Cor=R[0,l,0:pix]\n",
    "\n",
    "plt.figure()\n",
    "ax=plt.axes(projection=ccrs.Orthographic(central_longdi,central_latdi))\n",
    "ax.set_extent(extentdi)\n",
    "gl=ax.gridlines(draw_labels=True)\n",
    "gl.top_labels=False\n",
    "gl.right_labels=False\n",
    "ax.coastlines()\n",
    "ax.add_feature(cfeature.LAND,edgecolor='black')\n",
    "ax.add_feature(cfeature.OCEAN)\n",
    "cor=ax.scatter(LONGdi.flatten(),LATdi.flatten(),s=50,c=Cor,cmap='jet',transform=pcar)\n",
    "plt.colorbar(cor,cmap='jet',orientation='vertical',ticklocation='auto')\n",
    "plt.title('Correlation of a line of the matrix R')\n",
    "plt.savefig('C:/M2_CSM/Stage/Stage/Codes/Kalman/codes/Results/Rcorrelation.png')"
   ]
  }
 ],
 "metadata": {
  "kernelspec": {
   "display_name": "Python 3 (ipykernel)",
   "language": "python",
   "name": "python3"
  },
  "language_info": {
   "codemirror_mode": {
    "name": "ipython",
    "version": 3
   },
   "file_extension": ".py",
   "mimetype": "text/x-python",
   "name": "python",
   "nbconvert_exporter": "python",
   "pygments_lexer": "ipython3",
   "version": "3.10.13"
  }
 },
 "nbformat": 4,
 "nbformat_minor": 5
}
